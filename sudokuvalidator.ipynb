{
  "nbformat": 4,
  "nbformat_minor": 0,
  "metadata": {
    "colab": {
      "provenance": [],
      "authorship_tag": "ABX9TyMVgTrsOER32L9/mtH1+4pz",
      "include_colab_link": true
    },
    "kernelspec": {
      "name": "python3",
      "display_name": "Python 3"
    },
    "language_info": {
      "name": "python"
    }
  },
  "cells": [
    {
      "cell_type": "markdown",
      "metadata": {
        "id": "view-in-github",
        "colab_type": "text"
      },
      "source": [
        "<a href=\"https://colab.research.google.com/github/madsbads/Sudoku_Validator/blob/main/sudokuvalidator.ipynb\" target=\"_parent\"><img src=\"https://colab.research.google.com/assets/colab-badge.svg\" alt=\"Open In Colab\"/></a>"
      ]
    },
    {
      "cell_type": "markdown",
      "source": [
        "[Python - threading documentation](https://docs.python.org/3/library/threading.html#)"
      ],
      "metadata": {
        "id": "B4k1HvEXaGtB"
      }
    },
    {
      "cell_type": "code",
      "execution_count": 1,
      "metadata": {
        "id": "hvRj__wII7W3"
      },
      "outputs": [],
      "source": [
        "import threading"
      ]
    },
    {
      "cell_type": "markdown",
      "source": [
        "Utilization of a valid and invalid sudoku board to exemplify true and false results\n",
        "-----"
      ],
      "metadata": {
        "id": "KgJaIocGZ7ZR"
      }
    },
    {
      "cell_type": "code",
      "source": [
        "# Example Sudoku board (replace with the board to be validated)\n",
        "sudoku_board = [\n",
        "    [5, 3, 4, 6, 7, 8, 9, 1, 2],\n",
        "    [6, 7, 2, 1, 9, 5, 3, 4, 8],\n",
        "    [1, 9, 8, 3, 4, 2, 5, 6, 7],\n",
        "    [8, 5, 9, 7, 6, 1, 4, 2, 3],\n",
        "    [4, 2, 6, 8, 5, 3, 7, 9, 1],\n",
        "    [7, 1, 3, 9, 2, 4, 8, 5, 6],\n",
        "    [9, 6, 1, 5, 3, 7, 2, 8, 4],\n",
        "    [2, 8, 7, 4, 1, 9, 6, 3, 5],\n",
        "    [3, 4, 5, 2, 8, 6, 1, 7, 9]\n",
        "]\n",
        "invalid_sudoku_board = [\n",
        "    [5, 3, 0, 0, 7, 0, 0, 0, 0],\n",
        "    [6, 0, 0, 1, 9, 5, 0, 0, 0],\n",
        "    [0, 9, 8, 0, 0, 0, 0, 6, 0],\n",
        "    [8, 0, 0, 0, 6, 0, 0, 0, 3],\n",
        "    [4, 0, 0, 8, 0, 3, 0, 0, 1],\n",
        "    [7, 0, 0, 0, 2, 0, 0, 0, 6],\n",
        "    [0, 6, 0, 0, 0, 0, 2, 8, 0],\n",
        "    [0, 0, 0, 4, 1, 9, 0, 0, 5],\n",
        "    [0, 0, 0, 0, 8, 0, 0, 7, 9]\n",
        "]"
      ],
      "metadata": {
        "id": "0XOgS6_EJAqU"
      },
      "execution_count": 2,
      "outputs": []
    },
    {
      "cell_type": "markdown",
      "source": [
        "Define the functions to validate columns, rows, and 3x3 subgrids\n",
        "-----"
      ],
      "metadata": {
        "id": "KdUClgl4ZS_I"
      }
    },
    {
      "cell_type": "code",
      "source": [
        "def check_rows(board):\n",
        "    for row in board:\n",
        "        if len(set(row)) != 9:\n",
        "            return False\n",
        "    return True\n",
        "\n",
        "def check_columns(board):\n",
        "    for col in range(9):\n",
        "        if len(set(board[row][col] for row in range(9))) != 9:\n",
        "            return False\n",
        "    return True\n",
        "\n",
        "def check_subgrids(board):\n",
        "    for i in range(0, 9, 3):\n",
        "        for j in range(0, 9, 3):\n",
        "            subgrid = [board[x][y] for x in range(i, i + 3) for y in range(j, j + 3)]\n",
        "            if len(set(subgrid)) != 9:\n",
        "                return False\n",
        "    return True"
      ],
      "metadata": {
        "id": "G4ko5VF9JC76"
      },
      "execution_count": 3,
      "outputs": []
    },
    {
      "cell_type": "code",
      "source": [
        "results = {\"rows\": None, \"columns\": None, \"subgrids\": None}\n",
        "\n",
        "def check_rows_thread(board):\n",
        "    results[\"rows\"] = check_rows(board)\n",
        "\n",
        "def check_columns_thread(board):\n",
        "    results[\"columns\"] = check_columns(board)\n",
        "\n",
        "def check_subgrids_thread(board):\n",
        "    results[\"subgrids\"] = check_subgrids(board)"
      ],
      "metadata": {
        "id": "82k5fRneJEg8"
      },
      "execution_count": 4,
      "outputs": []
    },
    {
      "cell_type": "markdown",
      "source": [
        "Define function to initiate threads and run appropriate validation in each\n",
        "-----"
      ],
      "metadata": {
        "id": "UGK1MgzYK2MY"
      }
    },
    {
      "cell_type": "code",
      "source": [
        "def validate_sudoku(board):\n",
        "    threads = []\n",
        "\n",
        "    row_thread = threading.Thread(target=check_rows_thread, args=(board,))\n",
        "    threads.append(row_thread)\n",
        "\n",
        "    column_thread = threading.Thread(target=check_columns_thread, args=(board,))\n",
        "    threads.append(column_thread)\n",
        "\n",
        "    subgrid_thread = threading.Thread(target=check_subgrids_thread, args=(board,))\n",
        "    threads.append(subgrid_thread)\n",
        "\n",
        "    # Start threads\n",
        "    for thread in threads:\n",
        "        thread.start()\n",
        "        print(f\"Thread {thread.name} started.\")\n",
        "\n",
        "    # Wait for all threads to finish\n",
        "    for thread in threads:\n",
        "        thread.join()\n",
        "        print(f\"Thread {thread.name} finished.\")\n",
        "\n",
        "    # Check results\n",
        "    return all(results.values())\n",
        "\n",
        "# Run the validator\n",
        "is_valid1 = validate_sudoku(invalid_sudoku_board)\n",
        "is_valid2 = validate_sudoku(sudoku_board)\n",
        "\n",
        "# Print the results\n",
        "print(f\"Sudoku board is valid (using invalid_sudoku_board): {is_valid1}\")\n",
        "print(f\"Sudoku board is valid (using sudoku_board): {is_valid2}\")\n"
      ],
      "metadata": {
        "colab": {
          "base_uri": "https://localhost:8080/"
        },
        "id": "TgWmd-uhLIQr",
        "outputId": "3a40b7bb-6b92-4fe6-d35a-f37a4b3f4e04"
      },
      "execution_count": 9,
      "outputs": [
        {
          "output_type": "stream",
          "name": "stdout",
          "text": [
            "Thread Thread-16 (check_rows_thread) started.\n",
            "Thread Thread-17 (check_columns_thread) started.\n",
            "Thread Thread-18 (check_subgrids_thread) started.\n",
            "Thread Thread-16 (check_rows_thread) finished.\n",
            "Thread Thread-17 (check_columns_thread) finished.\n",
            "Thread Thread-18 (check_subgrids_thread) finished.\n",
            "Thread Thread-19 (check_rows_thread) started.\n",
            "Thread Thread-20 (check_columns_thread) started.\n",
            "Thread Thread-21 (check_subgrids_thread) started.\n",
            "Thread Thread-19 (check_rows_thread) finished.\n",
            "Thread Thread-20 (check_columns_thread) finished.\n",
            "Thread Thread-21 (check_subgrids_thread) finished.\n",
            "Sudoku board is valid (using invalid_sudoku_board): False\n",
            "Sudoku board is valid (using sudoku_board): True\n"
          ]
        }
      ]
    }
  ]
}